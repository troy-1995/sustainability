{
 "cells": [
  {
   "cell_type": "markdown",
   "metadata": {},
   "source": [
    "# a) How many observations and variables are in the dataset? \n",
    "### There are 17487925 observations and 18 variables"
   ]
  },
  {
   "cell_type": "code",
   "execution_count": 45,
   "metadata": {},
   "outputs": [],
   "source": [
    "import pandas as pd\n",
    "import numpy as np\n",
    "\n",
    "\n",
    "# Import the data\n",
    "data = pd.read_csv(\"/Users/troy/Desktop/2020_-_Full_Cities_Dataset.csv\")"
   ]
  },
  {
   "cell_type": "code",
   "execution_count": 3,
   "metadata": {},
   "outputs": [
    {
     "data": {
      "text/plain": [
       "17487925"
      ]
     },
     "execution_count": 3,
     "metadata": {},
     "output_type": "execute_result"
    }
   ],
   "source": [
    "# Get the sum of the all the data\n",
    "sum(data.count())"
   ]
  },
  {
   "cell_type": "code",
   "execution_count": 4,
   "metadata": {},
   "outputs": [
    {
     "data": {
      "text/plain": [
       "18"
      ]
     },
     "execution_count": 4,
     "metadata": {},
     "output_type": "execute_result"
    }
   ],
   "source": [
    "# Get the length of the columns\n",
    "len(data.columns)"
   ]
  },
  {
   "cell_type": "code",
   "execution_count": null,
   "metadata": {},
   "outputs": [],
   "source": []
  },
  {
   "cell_type": "code",
   "execution_count": null,
   "metadata": {},
   "outputs": [],
   "source": []
  },
  {
   "cell_type": "code",
   "execution_count": null,
   "metadata": {},
   "outputs": [],
   "source": []
  },
  {
   "cell_type": "markdown",
   "metadata": {},
   "source": [
    "# b) How many unique cities are there in the dataset?\n",
    "### There are 776 unique cities "
   ]
  },
  {
   "cell_type": "code",
   "execution_count": 5,
   "metadata": {},
   "outputs": [
    {
     "data": {
      "text/plain": [
       "Index(['Questionnaire', 'Year Reported to CDP', 'Account Number',\n",
       "       'Organization', 'Country', 'CDP Region', 'Parent Section', 'Section',\n",
       "       'Question Number', 'Question Name', 'Column Number', 'Column Name',\n",
       "       'Row Number', 'Row Name', 'Response Answer', 'Comments', 'File Name',\n",
       "       'Last update'],\n",
       "      dtype='object')"
      ]
     },
     "execution_count": 5,
     "metadata": {},
     "output_type": "execute_result"
    }
   ],
   "source": [
    "# We are going to use the Organization to get the unique cities\n",
    "data.columns"
   ]
  },
  {
   "cell_type": "code",
   "execution_count": 6,
   "metadata": {},
   "outputs": [
    {
     "data": {
      "text/plain": [
       "776"
      ]
     },
     "execution_count": 6,
     "metadata": {},
     "output_type": "execute_result"
    }
   ],
   "source": [
    "# Get the unique data from the \"Organization\" column and calculate the length\n",
    "cities = data['Organization'].unique()\n",
    "len(cities)"
   ]
  },
  {
   "cell_type": "code",
   "execution_count": null,
   "metadata": {},
   "outputs": [],
   "source": []
  },
  {
   "cell_type": "code",
   "execution_count": null,
   "metadata": {},
   "outputs": [],
   "source": []
  },
  {
   "cell_type": "code",
   "execution_count": null,
   "metadata": {},
   "outputs": [],
   "source": []
  },
  {
   "cell_type": "markdown",
   "metadata": {},
   "source": [
    "# c) Please plot the total cities by continent that have responded to the questionnaire."
   ]
  },
  {
   "cell_type": "code",
   "execution_count": 7,
   "metadata": {},
   "outputs": [],
   "source": [
    "# Only select the row that has response answer and work on data1\n",
    "data1 = data[data['Response Answer'].notna()]"
   ]
  },
  {
   "cell_type": "code",
   "execution_count": 8,
   "metadata": {},
   "outputs": [],
   "source": [
    "# Group by 'CDP Region and select the Organization colomn'\n",
    "new_data = data1.groupby('CDP Region')['Organization']"
   ]
  },
  {
   "cell_type": "code",
   "execution_count": 9,
   "metadata": {},
   "outputs": [
    {
     "data": {
      "text/html": [
       "<div>\n",
       "<style scoped>\n",
       "    .dataframe tbody tr th:only-of-type {\n",
       "        vertical-align: middle;\n",
       "    }\n",
       "\n",
       "    .dataframe tbody tr th {\n",
       "        vertical-align: top;\n",
       "    }\n",
       "\n",
       "    .dataframe thead th {\n",
       "        text-align: right;\n",
       "    }\n",
       "</style>\n",
       "<table border=\"1\" class=\"dataframe\">\n",
       "  <thead>\n",
       "    <tr style=\"text-align: right;\">\n",
       "      <th></th>\n",
       "      <th>count</th>\n",
       "      <th>unique</th>\n",
       "      <th>top</th>\n",
       "      <th>freq</th>\n",
       "    </tr>\n",
       "    <tr>\n",
       "      <th>CDP Region</th>\n",
       "      <th></th>\n",
       "      <th></th>\n",
       "      <th></th>\n",
       "      <th></th>\n",
       "    </tr>\n",
       "  </thead>\n",
       "  <tbody>\n",
       "    <tr>\n",
       "      <th>Africa</th>\n",
       "      <td>37301</td>\n",
       "      <td>33</td>\n",
       "      <td>City of Cape Town</td>\n",
       "      <td>2242</td>\n",
       "    </tr>\n",
       "    <tr>\n",
       "      <th>East Asia</th>\n",
       "      <td>47100</td>\n",
       "      <td>35</td>\n",
       "      <td>Toyama City</td>\n",
       "      <td>3738</td>\n",
       "    </tr>\n",
       "    <tr>\n",
       "      <th>Europe</th>\n",
       "      <td>194225</td>\n",
       "      <td>160</td>\n",
       "      <td>City of Paris</td>\n",
       "      <td>2651</td>\n",
       "    </tr>\n",
       "    <tr>\n",
       "      <th>Latin America</th>\n",
       "      <td>322184</td>\n",
       "      <td>285</td>\n",
       "      <td>Municipalidad de Belén</td>\n",
       "      <td>3242</td>\n",
       "    </tr>\n",
       "    <tr>\n",
       "      <th>Middle East</th>\n",
       "      <td>5916</td>\n",
       "      <td>5</td>\n",
       "      <td>Tel Aviv-Yafo Municipality</td>\n",
       "      <td>1377</td>\n",
       "    </tr>\n",
       "    <tr>\n",
       "      <th>North America</th>\n",
       "      <td>244364</td>\n",
       "      <td>186</td>\n",
       "      <td>City of Windsor</td>\n",
       "      <td>3534</td>\n",
       "    </tr>\n",
       "    <tr>\n",
       "      <th>South and West Asia</th>\n",
       "      <td>20567</td>\n",
       "      <td>21</td>\n",
       "      <td>Rajkot Municipal Corporation</td>\n",
       "      <td>1985</td>\n",
       "    </tr>\n",
       "    <tr>\n",
       "      <th>Southeast Asia and Oceania</th>\n",
       "      <td>64186</td>\n",
       "      <td>51</td>\n",
       "      <td>City of Sydney</td>\n",
       "      <td>2523</td>\n",
       "    </tr>\n",
       "  </tbody>\n",
       "</table>\n",
       "</div>"
      ],
      "text/plain": [
       "                             count unique                           top  freq\n",
       "CDP Region                                                                   \n",
       "Africa                       37301     33             City of Cape Town  2242\n",
       "East Asia                    47100     35                   Toyama City  3738\n",
       "Europe                      194225    160                 City of Paris  2651\n",
       "Latin America               322184    285        Municipalidad de Belén  3242\n",
       "Middle East                   5916      5    Tel Aviv-Yafo Municipality  1377\n",
       "North America               244364    186               City of Windsor  3534\n",
       "South and West Asia          20567     21  Rajkot Municipal Corporation  1985\n",
       "Southeast Asia and Oceania   64186     51                City of Sydney  2523"
      ]
     },
     "execution_count": 9,
     "metadata": {},
     "output_type": "execute_result"
    }
   ],
   "source": [
    "new_data.describe()"
   ]
  },
  {
   "cell_type": "code",
   "execution_count": null,
   "metadata": {},
   "outputs": [],
   "source": []
  },
  {
   "cell_type": "code",
   "execution_count": null,
   "metadata": {},
   "outputs": [],
   "source": []
  },
  {
   "cell_type": "code",
   "execution_count": null,
   "metadata": {},
   "outputs": [],
   "source": []
  },
  {
   "cell_type": "markdown",
   "metadata": {},
   "source": [
    "# d) How many US cities have incorporated emissions reduction targets in their master planning?\n",
    "\n",
    "### There are 120 US citites have incorporated emissions reduction targests in their master planning\n"
   ]
  },
  {
   "cell_type": "code",
   "execution_count": 10,
   "metadata": {},
   "outputs": [],
   "source": [
    "# Since question 1.a only appears if the answer of question 1 is yes, so we only have to deal with question 1.a\n",
    "# Filter out with only Emissions reduction targets goal\n",
    "q1_a = data.loc[data['Question Name'] == 'Please detail which goals and targets are incorporated in your city’s master plan and describe how these goals are addressed in the table below.']"
   ]
  },
  {
   "cell_type": "code",
   "execution_count": 11,
   "metadata": {},
   "outputs": [],
   "source": [
    "# left with only U.S cities\n",
    "q1_a_us = q1_a.loc[q1_a['CDP Region'] == 'North America']"
   ]
  },
  {
   "cell_type": "code",
   "execution_count": 12,
   "metadata": {},
   "outputs": [],
   "source": [
    "# With response answer 'Emissions reduction targets' only \n",
    "q1_a_us_er = q1_a_us.loc[q1_a_us['Response Answer'] == 'Emissions reduction targets']"
   ]
  },
  {
   "cell_type": "code",
   "execution_count": 13,
   "metadata": {},
   "outputs": [],
   "source": [
    "# Filter out the unique cities\n",
    "q1_a_us_er_unique = q1_a_us_er['Organization'].unique()"
   ]
  },
  {
   "cell_type": "code",
   "execution_count": 14,
   "metadata": {},
   "outputs": [
    {
     "data": {
      "text/plain": [
       "array(['New York City',\n",
       "       'Metropolitan Washington Council of Governments (COG)',\n",
       "       'City of Kingston, ON', 'City of Takoma Park, MD',\n",
       "       'City of New Orleans', 'City of Key West, FL', 'City of Tempe, AZ',\n",
       "       'City of Indianapolis', 'Boulder County', 'City of Grand Rapids',\n",
       "       'City of Omaha', 'City of Ottawa', 'City of Charlotte',\n",
       "       'City of Ann Arbor', 'City of Dubuque', 'City of Hayward',\n",
       "       'Village of Park Forest, IL', 'City of Tacoma',\n",
       "       'City of Sacramento', 'Kansas City', 'Town of Breckenridge, CO',\n",
       "       'City of Northampton, MA', 'City of Dallas', 'City of San Antonio',\n",
       "       'City of Buffalo', 'Summit County, UT', 'City of Milwaukee',\n",
       "       'City of Santa Monica', 'City of Des Moines',\n",
       "       'Chicago Metropolitan Mayors Caucus', 'City of Cambridge',\n",
       "       'San Luis Obispo', 'City of Toronto',\n",
       "       'City of Saratoga Springs, NY', 'City of Park City, UT',\n",
       "       'City of Henderson', 'City of San Francisco', 'Cuyahoga County',\n",
       "       'City of Fayetteville, AR', 'City of Baltimore',\n",
       "       'City of Savannah', 'Arlington, VA', 'Town of Whitby, ON',\n",
       "       'City of Albany', 'City of West Palm Beach', 'City of Bloomington',\n",
       "       'City of Richmond, VA', 'City of Eau Claire, WI', 'City of Surrey',\n",
       "       'City of Saskatoon', 'City of Pittsburgh', 'City of Houston',\n",
       "       'Town of Princeton, NJ', 'City of Phoenix',\n",
       "       'City of Manhattan Beach, CA', 'City of London, ON',\n",
       "       'City of Carmel, IN', 'City of Boulder', 'City of Flagstaff',\n",
       "       'City of Austin', 'City of Windsor',\n",
       "       'Halifax Regional Municipality', 'City of Seattle',\n",
       "       'City of San José', 'City of North Vancouver',\n",
       "       'City of Beaverton, OR', 'District of Columbia', 'City of Denver',\n",
       "       'City of Thunder Bay', 'City of Albuquerque', 'City of Lakewood',\n",
       "       'City of San Diego', 'City of Cincinnati', 'City of Cleveland',\n",
       "       'City of Asheville', 'City of Providence', 'City of Fremont',\n",
       "       'City of San Leandro, CA', 'City of Berkeley', 'City of Rochester',\n",
       "       'City of Saint Paul, MN', 'City of Somerville, MA',\n",
       "       'City of Milwaukie, OR', 'City of Roanoke', 'City of Columbus',\n",
       "       'City of Portland, OR', 'City of Vancouver', 'City of Victoria',\n",
       "       'City and County of Honolulu', 'City of West Hollywood',\n",
       "       'City of Eugene', 'City of Peterborough', 'City of Chicago',\n",
       "       'Ville de Montreal', 'City of Winona, MN',\n",
       "       'City of Louisville, KY', 'City of Orlando', 'City of Calgary',\n",
       "       'City of Durham', 'City of Portland, ME', 'Abington Township',\n",
       "       'City of Encinitas, CA', 'City of Aspen', 'City of St. Petersburg',\n",
       "       'City of Hamilton', 'District of Saanich, BC',\n",
       "       'Broward County, FL', 'City of Edmonton', 'City of Philadelphia',\n",
       "       'City of Kitchener', 'City of Emeryville, CA',\n",
       "       'City of Prince George, BC', 'City of St Louis',\n",
       "       'City of Iowa City', 'City of Las Vegas', 'City of Wilmington, NC',\n",
       "       'Salt Lake City', 'City of Evanston, IL', 'City of Boston',\n",
       "       'Town of Vail, CO'], dtype=object)"
      ]
     },
     "execution_count": 14,
     "metadata": {},
     "output_type": "execute_result"
    }
   ],
   "source": [
    "# Now we has the U.S cities that have the Emissions reduction targets\n",
    "q1_a_us_er_unique"
   ]
  },
  {
   "cell_type": "code",
   "execution_count": 16,
   "metadata": {},
   "outputs": [
    {
     "data": {
      "text/plain": [
       "120"
      ]
     },
     "execution_count": 16,
     "metadata": {},
     "output_type": "execute_result"
    }
   ],
   "source": [
    "# Now let's count the how many items in the array\n",
    "len(q1_a_us_er_unique)"
   ]
  },
  {
   "cell_type": "code",
   "execution_count": null,
   "metadata": {},
   "outputs": [],
   "source": []
  },
  {
   "cell_type": "code",
   "execution_count": null,
   "metadata": {},
   "outputs": [],
   "source": []
  },
  {
   "cell_type": "code",
   "execution_count": null,
   "metadata": {},
   "outputs": [],
   "source": []
  },
  {
   "cell_type": "markdown",
   "metadata": {},
   "source": [
    "# f) Please create a meaningful visualization of total scope 1 emissions. What can you tell from your visualization?"
   ]
  },
  {
   "cell_type": "code",
   "execution_count": 300,
   "metadata": {},
   "outputs": [],
   "source": [
    "# Scope 1 emission is Direct emissions due to fuel combustion in the buildings, equipment/facilities and\n",
    "# transportation sectors within the city boundary. These emissions physically occur inside the\n",
    "# city boundary\n",
    "q46_b = data.loc[data['Question Name'] == 'Please provide a summary of emissions by sector and scope as defined in the Global Protocol for Community Greenhouse Gas Emissions Inventories (GPC) in the table below.']"
   ]
  },
  {
   "cell_type": "code",
   "execution_count": 301,
   "metadata": {},
   "outputs": [],
   "source": [
    "# Let's filter out with only Scope 1 emissions left\n",
    "q46_b_s1 = q46_b[q46_b['Row Name'].str.contains(\"Scope 1\")]"
   ]
  },
  {
   "cell_type": "code",
   "execution_count": 302,
   "metadata": {},
   "outputs": [],
   "source": [
    "q46_b_s1.to_csv(\"q46_b_s1.csv\",sep=',', encoding='utf-8')"
   ]
  },
  {
   "cell_type": "code",
   "execution_count": 303,
   "metadata": {},
   "outputs": [],
   "source": [
    "# Drop the null values\n",
    "q46_b_s1 = q46_b_s1[q46_b_s1['Response Answer'].notna()]"
   ]
  },
  {
   "cell_type": "code",
   "execution_count": 304,
   "metadata": {},
   "outputs": [],
   "source": [
    "# Drop the Not applicable and other string value, so we have the numeric values for the visualization \n",
    "# The way we do that is by convert all the value in the column into numeric type and leave errors ones(strings) as blank\n",
    "# And then drop them\n",
    "q46_b_s1['Response Answer'] = pd.to_numeric(q46_b_s1['Response Answer'], errors='coerce')\n",
    "q46_b_s1 = q46_b_s1.dropna(subset=['Response Answer'])"
   ]
  },
  {
   "cell_type": "code",
   "execution_count": 305,
   "metadata": {},
   "outputs": [],
   "source": [
    "# Import the pyplot package for the visualization\n",
    "import matplotlib.pyplot as plt"
   ]
  },
  {
   "cell_type": "code",
   "execution_count": 306,
   "metadata": {},
   "outputs": [
    {
     "data": {
      "text/plain": [
       "Index(['Questionnaire', 'Year Reported to CDP', 'Account Number',\n",
       "       'Organization', 'Country', 'CDP Region', 'Parent Section', 'Section',\n",
       "       'Question Number', 'Question Name', 'Column Number', 'Column Name',\n",
       "       'Row Number', 'Row Name', 'Response Answer', 'Comments', 'File Name',\n",
       "       'Last update'],\n",
       "      dtype='object')"
      ]
     },
     "execution_count": 306,
     "metadata": {},
     "output_type": "execute_result"
    }
   ],
   "source": [
    "# Let's check out some columns we can use for the visualization\n",
    "q46_b_s1.columns"
   ]
  },
  {
   "cell_type": "code",
   "execution_count": 307,
   "metadata": {},
   "outputs": [],
   "source": [
    "# Now let's get the two column that we want\n",
    "q46_b_s1 = q46_b_s1[['Country', 'Response Answer']]"
   ]
  },
  {
   "cell_type": "code",
   "execution_count": 308,
   "metadata": {},
   "outputs": [],
   "source": [
    "# Group by country and with mean value of the emission\n",
    "q46_b_s1_grouped = q46_b_s1.groupby(['Country']).mean()"
   ]
  },
  {
   "cell_type": "code",
   "execution_count": 309,
   "metadata": {},
   "outputs": [],
   "source": [
    "# Rename the column\n",
    "q46_b_s1_grouped = q46_b_s1_grouped.rename(columns = {'Response Answer':'Emissions'})"
   ]
  },
  {
   "cell_type": "markdown",
   "metadata": {},
   "source": [
    "## Base on the data, we can see that the Peru has the most average scope 1 emissions, China, Honkong Region comes as the second and the U.S is the third"
   ]
  },
  {
   "cell_type": "code",
   "execution_count": 311,
   "metadata": {},
   "outputs": [
    {
     "data": {
      "text/plain": [
       "Text(0.5, 1.0, 'Average scope 1 emissions by country')"
      ]
     },
     "execution_count": 311,
     "metadata": {},
     "output_type": "execute_result"
    },
    {
     "data": {
      "image/png": "[encoded data removed]",
      "text/plain": [
       "<Figure size 720x720 with 1 Axes>"
      ]
     },
     "metadata": {
      "needs_background": "light"
     },
     "output_type": "display_data"
    }
   ],
   "source": [
    "# Plot the graph\n",
    "q46_b_s1_grouped.nlargest(10, 'Emissions').sort_values('Emissions', ascending=True).plot.barh(figsize=(10,10))\n",
    "plt.title('Average scope 1 emissions by country')"
   ]
  },
  {
   "cell_type": "code",
   "execution_count": null,
   "metadata": {},
   "outputs": [],
   "source": []
  },
  {
   "cell_type": "code",
   "execution_count": null,
   "metadata": {},
   "outputs": [],
   "source": []
  },
  {
   "cell_type": "markdown",
   "metadata": {},
   "source": [
    "# g) Please create a meaningful visualization of future expected magnitude of climate hazards. What can you tell from your visualization?\n"
   ]
  },
  {
   "cell_type": "code",
   "execution_count": 217,
   "metadata": {},
   "outputs": [
    {
     "data": {
      "text/plain": [
       "Index(['Questionnaire', 'Year Reported to CDP', 'Account Number',\n",
       "       'Organization', 'Country', 'CDP Region', 'Parent Section', 'Section',\n",
       "       'Question Number', 'Question Name', 'Column Number', 'Column Name',\n",
       "       'Row Number', 'Row Name', 'Response Answer', 'Comments', 'File Name',\n",
       "       'Last update'],\n",
       "      dtype='object')"
      ]
     },
     "execution_count": 217,
     "metadata": {},
     "output_type": "execute_result"
    }
   ],
   "source": [
    "# Let's check out the columns\n",
    "data.columns"
   ]
  },
  {
   "cell_type": "code",
   "execution_count": 235,
   "metadata": {},
   "outputs": [],
   "source": [
    "# We only want the Future expected magnitude of hazard so we filter out the other ones \n",
    "q_g = data[data['Column Name'] == 'Future expected magnitude of hazard']"
   ]
  },
  {
   "cell_type": "code",
   "execution_count": 240,
   "metadata": {},
   "outputs": [],
   "source": [
    "# Drop the null values form the Response Answer\n",
    "q_g = q_g[q_g['Response Answer'].notna()]"
   ]
  },
  {
   "cell_type": "code",
   "execution_count": 261,
   "metadata": {},
   "outputs": [],
   "source": [
    "# Now let's get the two columns that we want\n",
    "q_g_country = q_g[['Country', 'Response Answer']]\n",
    "q_g_high = q_g_country[q_g_country['Response Answer'] == \"High\"]"
   ]
  },
  {
   "cell_type": "code",
   "execution_count": 278,
   "metadata": {},
   "outputs": [],
   "source": [
    "# Group by the country and reset the index\n",
    "q_g_grouped = q_g_high.groupby(['Country']).count().reset_index()"
   ]
  },
  {
   "cell_type": "code",
   "execution_count": 279,
   "metadata": {},
   "outputs": [],
   "source": [
    "# Rename the column \n",
    "q_g_grouped = q_g_grouped.rename(columns = {'Response Answer':'High chance of future hazard'})"
   ]
  },
  {
   "cell_type": "code",
   "execution_count": 292,
   "metadata": {},
   "outputs": [
    {
     "data": {
      "text/html": [
       "<div>\n",
       "<style scoped>\n",
       "    .dataframe tbody tr th:only-of-type {\n",
       "        vertical-align: middle;\n",
       "    }\n",
       "\n",
       "    .dataframe tbody tr th {\n",
       "        vertical-align: top;\n",
       "    }\n",
       "\n",
       "    .dataframe thead th {\n",
       "        text-align: right;\n",
       "    }\n",
       "</style>\n",
       "<table border=\"1\" class=\"dataframe\">\n",
       "  <thead>\n",
       "    <tr style=\"text-align: right;\">\n",
       "      <th></th>\n",
       "      <th>Country</th>\n",
       "      <th>High chance of future hazard</th>\n",
       "    </tr>\n",
       "  </thead>\n",
       "  <tbody>\n",
       "    <tr>\n",
       "      <th>0</th>\n",
       "      <td>Argentina</td>\n",
       "      <td>40</td>\n",
       "    </tr>\n",
       "    <tr>\n",
       "      <th>1</th>\n",
       "      <td>Australia</td>\n",
       "      <td>46</td>\n",
       "    </tr>\n",
       "    <tr>\n",
       "      <th>2</th>\n",
       "      <td>Bangladesh</td>\n",
       "      <td>1</td>\n",
       "    </tr>\n",
       "    <tr>\n",
       "      <th>3</th>\n",
       "      <td>Belgium</td>\n",
       "      <td>2</td>\n",
       "    </tr>\n",
       "    <tr>\n",
       "      <th>4</th>\n",
       "      <td>Brazil</td>\n",
       "      <td>83</td>\n",
       "    </tr>\n",
       "    <tr>\n",
       "      <th>...</th>\n",
       "      <td>...</td>\n",
       "      <td>...</td>\n",
       "    </tr>\n",
       "    <tr>\n",
       "      <th>56</th>\n",
       "      <td>Turkey</td>\n",
       "      <td>13</td>\n",
       "    </tr>\n",
       "    <tr>\n",
       "      <th>57</th>\n",
       "      <td>Uganda</td>\n",
       "      <td>2</td>\n",
       "    </tr>\n",
       "    <tr>\n",
       "      <th>58</th>\n",
       "      <td>United Arab Emirates</td>\n",
       "      <td>1</td>\n",
       "    </tr>\n",
       "    <tr>\n",
       "      <th>59</th>\n",
       "      <td>United Kingdom of Great Britain and Northern I...</td>\n",
       "      <td>27</td>\n",
       "    </tr>\n",
       "    <tr>\n",
       "      <th>60</th>\n",
       "      <td>United States of America</td>\n",
       "      <td>288</td>\n",
       "    </tr>\n",
       "  </tbody>\n",
       "</table>\n",
       "<p>61 rows × 2 columns</p>\n",
       "</div>"
      ],
      "text/plain": [
       "                                              Country  \\\n",
       "0                                           Argentina   \n",
       "1                                           Australia   \n",
       "2                                          Bangladesh   \n",
       "3                                             Belgium   \n",
       "4                                              Brazil   \n",
       "..                                                ...   \n",
       "56                                             Turkey   \n",
       "57                                             Uganda   \n",
       "58                               United Arab Emirates   \n",
       "59  United Kingdom of Great Britain and Northern I...   \n",
       "60                           United States of America   \n",
       "\n",
       "    High chance of future hazard  \n",
       "0                             40  \n",
       "1                             46  \n",
       "2                              1  \n",
       "3                              2  \n",
       "4                             83  \n",
       "..                           ...  \n",
       "56                            13  \n",
       "57                             2  \n",
       "58                             1  \n",
       "59                            27  \n",
       "60                           288  \n",
       "\n",
       "[61 rows x 2 columns]"
      ]
     },
     "execution_count": 292,
     "metadata": {},
     "output_type": "execute_result"
    }
   ],
   "source": [
    "# Now we have a data frame like this\n",
    "q_g_grouped"
   ]
  },
  {
   "cell_type": "markdown",
   "metadata": {},
   "source": [
    "## Base on the data, we can see that the U.S has the most answers that idicate high chance of future hazard, Brazil is the second and the Canada is the third\n"
   ]
  },
  {
   "cell_type": "code",
   "execution_count": 297,
   "metadata": {},
   "outputs": [
    {
     "data": {
      "text/plain": [
       "<AxesSubplot:ylabel='Country'>"
      ]
     },
     "execution_count": 297,
     "metadata": {},
     "output_type": "execute_result"
    },
    {
     "data": {
      "image/png": "[encoded data removed]",
      "text/plain": [
       "<Figure size 720x720 with 1 Axes>"
      ]
     },
     "metadata": {
      "needs_background": "light"
     },
     "output_type": "display_data"
    }
   ],
   "source": [
    "# Plot the graph\n",
    "x = \"Country\"\n",
    "y = \"High chance of future hazard\"\n",
    "q_g_grouped.nlargest(10, 'High chance of future hazard').sort_values('High chance of future hazard', ascending=True).plot.barh(x, y, figsize=(10,10))"
   ]
  },
  {
   "cell_type": "code",
   "execution_count": null,
   "metadata": {},
   "outputs": [],
   "source": []
  }
 ],
 "metadata": {
  "kernelspec": {
   "display_name": "Python 3",
   "language": "python",
   "name": "python3"
  },
  "language_info": {
   "codemirror_mode": {
    "name": "ipython",
    "version": 3
   },
   "file_extension": ".py",
   "mimetype": "text/x-python",
   "name": "python",
   "nbconvert_exporter": "python",
   "pygments_lexer": "ipython3",
   "version": "3.7.6"
  }
 },
 "nbformat": 4,
 "nbformat_minor": 4
}
